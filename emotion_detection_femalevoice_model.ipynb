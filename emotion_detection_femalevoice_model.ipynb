{
 "cells": [
  {
   "cell_type": "markdown",
   "metadata": {},
   "source": [
    "Importing the necessary libaries required\n",
    "\n"
   ]
  },
  {
   "cell_type": "code",
   "execution_count": 2,
   "metadata": {},
   "outputs": [],
   "source": [
    "import tkinter as tk\n",
    "from tkinter import filedialog, messagebox\n",
    "import pyaudio\n",
    "import wave\n",
    "import os\n",
    "from sklearn.model_selection import train_test_split\n",
    "from keras.layers import  Flatten, Dense, Dropout\n",
    "import librosa\n",
    "import numpy as np\n",
    "from tensorflow.keras.applications import VGG16\n",
    "import keras\n",
    "from sklearn.metrics import accuracy_score\n",
    "from sklearn.preprocessing import LabelEncoder\n",
    "from keras.utils import to_categorical"
   ]
  },
  {
   "cell_type": "markdown",
   "metadata": {},
   "source": [
    "model building,training and testing for emotion detection of female audio"
   ]
  },
  {
   "cell_type": "code",
   "execution_count": 4,
   "metadata": {},
   "outputs": [
    {
     "name": "stdout",
     "output_type": "stream",
     "text": [
      "Epoch 1/5\n",
      "\u001b[1m25/25\u001b[0m \u001b[32m━━━━━━━━━━━━━━━━━━━━\u001b[0m\u001b[37m\u001b[0m \u001b[1m19s\u001b[0m 468ms/step - accuracy: 0.4248 - loss: 1.5718\n",
      "Epoch 2/5\n",
      "\u001b[1m25/25\u001b[0m \u001b[32m━━━━━━━━━━━━━━━━━━━━\u001b[0m\u001b[37m\u001b[0m \u001b[1m16s\u001b[0m 619ms/step - accuracy: 0.8032 - loss: 0.4991\n",
      "Epoch 3/5\n",
      "\u001b[1m25/25\u001b[0m \u001b[32m━━━━━━━━━━━━━━━━━━━━\u001b[0m\u001b[37m\u001b[0m \u001b[1m15s\u001b[0m 579ms/step - accuracy: 0.9038 - loss: 0.2863\n",
      "Epoch 4/5\n",
      "\u001b[1m25/25\u001b[0m \u001b[32m━━━━━━━━━━━━━━━━━━━━\u001b[0m\u001b[37m\u001b[0m \u001b[1m13s\u001b[0m 524ms/step - accuracy: 0.8921 - loss: 0.2725\n",
      "Epoch 5/5\n",
      "\u001b[1m25/25\u001b[0m \u001b[32m━━━━━━━━━━━━━━━━━━━━\u001b[0m\u001b[37m\u001b[0m \u001b[1m13s\u001b[0m 512ms/step - accuracy: 0.9413 - loss: 0.1942\n",
      "\u001b[1m7/7\u001b[0m \u001b[32m━━━━━━━━━━━━━━━━━━━━\u001b[0m\u001b[37m\u001b[0m \u001b[1m3s\u001b[0m 322ms/step\n",
      "Accuracy: 0.9396984924623115\n"
     ]
    }
   ],
   "source": [
    "#classes\n",
    "classes = ['angry', 'disgust', 'fear', 'happy', 'neutral', 'pleasant', 'sad']\n",
    "\n",
    "# Loading the audio data\n",
    "audio_data, labels = [], []\n",
    "for folder_name in classes:\n",
    "    folder_path = os.path.join(r'C:\\Users\\Shivam Sharma\\Documents\\Python Scripts\\task4\\datasets', folder_name)\n",
    "    for file in os.listdir(folder_path):\n",
    "        file_path = os.path.join(folder_path, file)\n",
    "        # Extracting the MFCCs from the audio file, \n",
    "        y,sr = librosa.load(file_path)\n",
    "\n",
    "        # Extracting Mel spectrogram features\n",
    "        mels = librosa.feature.melspectrogram(y=y, sr=sr)\n",
    "        mels = mels.T  # Transpose to match image format\n",
    "        \n",
    "        #puting features and labels into audio_data and labels respectively\n",
    "        audio_data.append(mels)\n",
    "        labels.append(folder_name)\n",
    "\n",
    "# Loading pre-trained VGG16 model (exclude top layers)\n",
    "base_model = VGG16(weights='imagenet', include_top=False, input_shape=(mels.shape[0], mels.shape[1],3)) \n",
    "\n",
    "# Freezing layers of the pre-trained model \n",
    "for layer in base_model.layers:\n",
    "  layer.trainable = False\n",
    "\n",
    "# Adding custom layers for classification\n",
    "x = base_model.output\n",
    "x = Flatten()(x)\n",
    "x = Dense(1024, activation='relu')(x)\n",
    "x = Dropout(0.5)(x)\n",
    "predictions = Dense(len(classes), activation='softmax')(x)\n",
    "\n",
    "# Creating the final model\n",
    "model = keras.Model(inputs=base_model.input, outputs=predictions)\n",
    "\n",
    "# Compiling the model (adjust optimizer, learning rate etc. based on your needs)\n",
    "model.compile(loss='categorical_crossentropy', optimizer='adam', metrics=['accuracy'])\n",
    "\n",
    "# Spliting data into training and validation sets\n",
    "train_audio, test_audio, train_labels, test_labels = train_test_split(np.array(audio_data),np.array(labels), test_size=0.2, random_state=42)\n",
    "\n",
    "# Initializing the encoder\n",
    "le = LabelEncoder()\n",
    "\n",
    "# Fiting the encoder and transform the labels\n",
    "train_labels = le.fit_transform(train_labels)\n",
    "test_labels = le.transform(test_labels)\n",
    "\n",
    "# Converting labels to categorical (one-hot encoding)\n",
    "train_labels = to_categorical(train_labels)\n",
    "test_labels = to_categorical(test_labels)\n",
    "\n",
    "# Repeaing the single-channel data to create a three-channel image\n",
    "train_audio = np.repeat(train_audio[..., np.newaxis], 3, -1)\n",
    "test_audio = np.repeat(test_audio[..., np.newaxis], 3, -1)\n",
    "\n",
    "\n",
    "# Training the model\n",
    "model.fit(train_audio, train_labels, epochs=5)\n",
    "\n",
    "# testing the model\n",
    "pred_label=model.predict(test_audio)\n",
    "\n",
    "# Converting predicted and test probabilities to class labels\n",
    "pred_label = np.argmax(pred_label, axis=1)\n",
    "test_labels = np.argmax(test_labels, axis=1)\n",
    "\n",
    "# calculating the accuracy\n",
    "print(\"Accuracy:\", accuracy_score(test_labels, pred_label))\n"
   ]
  },
  {
   "cell_type": "markdown",
   "metadata": {},
   "source": [
    "building window for user interface"
   ]
  },
  {
   "cell_type": "code",
   "execution_count": 7,
   "metadata": {},
   "outputs": [
    {
     "data": {
      "text/plain": [
       "''"
      ]
     },
     "execution_count": 7,
     "metadata": {},
     "output_type": "execute_result"
    }
   ],
   "source": [
    "window = tk.Tk()\n",
    "window.title(\"Audio Recorder and Uploader\")\n",
    "window.geometry(\"500x500\")"
   ]
  },
  {
   "cell_type": "markdown",
   "metadata": {},
   "source": [
    "main function "
   ]
  },
  {
   "cell_type": "code",
   "execution_count": 5,
   "metadata": {},
   "outputs": [],
   "source": [
    "def main():\n",
    "    global filename\n",
    "    #extracting the features of input audio\n",
    "    if filename == '':\n",
    "       #extracting the features of input audio\n",
    "       y,sr=librosa.load('output.wav')\n",
    "    else:\n",
    "      y,sr=librosa.load(filename)\n",
    "    # Extracting Mel spectrogram features\n",
    "    mels = librosa.feature.melspectrogram(y=y, sr=sr)\n",
    "    mels = mels.T  # Transpose to match image format\n",
    "    # Extracting the pitch\n",
    "    pitches, magnitudes = librosa.piptrack(y=y, sr=sr)\n",
    "\n",
    "    # Geting the average pitch\n",
    "    average_pitch = np.average(pitches[np.nonzero(pitches)])\n",
    "\n",
    "    if average_pitch > 180:# avg_pitch of female voice\n",
    "      # Threshold values for English \n",
    "      english_threshold = 225 # avg_pitch for female english language audio\n",
    "      if average_pitch < english_threshold:\n",
    "         prediction=model.predict(mels)\n",
    "         class_label = np.argmax(prediction)\n",
    "         predicted_class_name = [classes[i] for i in class_label]\n",
    "         messagebox.showinfo(\"Message\", \"the emotion type of the audio file is:\" + predicted_class_name, parent=window)\n",
    "      else:\n",
    "         messagebox.showinfo(\"Message\", \" The voice audio should be in english langauge!\", parent=window)\n",
    "    else:\n",
    "         messagebox.showinfo(\"Message\", \" The voice audio should be of a female and not of a male, please upload female voice audio!\", parent=window)\n"
   ]
  },
  {
   "cell_type": "markdown",
   "metadata": {},
   "source": [
    "building button for file explorer"
   ]
  },
  {
   "cell_type": "code",
   "execution_count": 8,
   "metadata": {},
   "outputs": [],
   "source": [
    "\n",
    "label_file_explorer = tk.Label(window, text=\"\")\n",
    "label_file_explorer.pack()"
   ]
  },
  {
   "cell_type": "markdown",
   "metadata": {},
   "source": [
    "function for browsing the files"
   ]
  },
  {
   "cell_type": "code",
   "execution_count": 9,
   "metadata": {},
   "outputs": [],
   "source": [
    "def browseFiles():\n",
    "    global filename \n",
    "    filename =''\n",
    "    filename = filedialog.askopenfilename(initialdir=\"/\", title=\"Select an audio file\", filetypes=((\"Audio files\", \".wav;.mp3\"), (\"All files\", \".\")))\n",
    "    label_file_explorer.configure(text=\"File Opened: \" + filename)\n",
    "    main()"
   ]
  },
  {
   "cell_type": "markdown",
   "metadata": {},
   "source": [
    "building upload button"
   ]
  },
  {
   "cell_type": "code",
   "execution_count": 10,
   "metadata": {},
   "outputs": [],
   "source": [
    "label_upload = tk.Label(window, text=\"Upload an audio file:\")\n",
    "label_upload.pack()\n",
    "\n",
    "button_upload = tk.Button(window, text=\"Browse\", command=browseFiles)\n",
    "button_upload.pack()"
   ]
  },
  {
   "cell_type": "markdown",
   "metadata": {},
   "source": [
    "function for recording audio"
   ]
  },
  {
   "cell_type": "code",
   "execution_count": 11,
   "metadata": {},
   "outputs": [],
   "source": [
    "def record_audio():\n",
    "    CHUNK = 1024\n",
    "    FORMAT = pyaudio.paInt16\n",
    "    CHANNELS = 2\n",
    "    RATE = 44100\n",
    "    RECORD_SECONDS = 5\n",
    "    WAVE_OUTPUT_FILENAME = \"output.wav\"\n",
    "    p = pyaudio.PyAudio()\n",
    "\n",
    "    stream = p.open(format=FORMAT,\n",
    "                channels=CHANNELS,\n",
    "                rate=RATE,\n",
    "                input=True,\n",
    "                frames_per_buffer=CHUNK)\n",
    "\n",
    "    print(\"* recording\")\n",
    "\n",
    "    frames = []\n",
    "\n",
    "    for i in range(0, int(RATE / CHUNK * RECORD_SECONDS)):\n",
    "       data = stream.read(CHUNK)\n",
    "       frames.append(data)\n",
    "\n",
    "    print(\"* done recording\")\n",
    "\n",
    "    stream.stop_stream()\n",
    "    stream.close()\n",
    "    p.terminate()\n",
    "\n",
    "    wf = wave.open(WAVE_OUTPUT_FILENAME, 'wb')\n",
    "    wf.setnchannels(CHANNELS)\n",
    "    wf.setsampwidth(p.get_sample_size(FORMAT))\n",
    "    wf.setframerate(RATE)\n",
    "    wf.writeframes(b''.join(frames))\n",
    "    wf.close()\n",
    "    main()"
   ]
  },
  {
   "cell_type": "markdown",
   "metadata": {},
   "source": [
    "building the record button"
   ]
  },
  {
   "cell_type": "code",
   "execution_count": 12,
   "metadata": {},
   "outputs": [],
   "source": [
    "label_record = tk.Label(window, text=\"Record an audio file:\")\n",
    "label_record.pack()\n",
    "\n",
    "button_record = tk.Button(window, text=\"Record\", command=record_audio)\n",
    "button_record.pack()\n",
    "window.mainloop()"
   ]
  }
 ],
 "metadata": {
  "kernelspec": {
   "display_name": "Python 3",
   "language": "python",
   "name": "python3"
  },
  "language_info": {
   "codemirror_mode": {
    "name": "ipython",
    "version": 3
   },
   "file_extension": ".py",
   "mimetype": "text/x-python",
   "name": "python",
   "nbconvert_exporter": "python",
   "pygments_lexer": "ipython3",
   "version": "3.11.7"
  }
 },
 "nbformat": 4,
 "nbformat_minor": 2
}
